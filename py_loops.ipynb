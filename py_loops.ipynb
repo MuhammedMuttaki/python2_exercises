{
 "cells": [
  {
   "attachments": {},
   "cell_type": "markdown",
   "metadata": {},
   "source": [
    "# Python-2 - Loop Exercises\n",
    "By Mohammad Muttaqi"
   ]
  },
  {
   "cell_type": "markdown",
   "metadata": {},
   "source": [
    "## Exercise-1"
   ]
  },
  {
   "cell_type": "code",
   "execution_count": 1,
   "metadata": {},
   "outputs": [
    {
     "name": "stdout",
     "output_type": "stream",
     "text": [
      "*\n",
      "**\n",
      "***\n",
      "****\n",
      "*****\n"
     ]
    }
   ],
   "source": [
    "i = 1 \n",
    "while i <6:\n",
    "    print(\"*\"*i)\n",
    "    i = i + 1"
   ]
  },
  {
   "attachments": {},
   "cell_type": "markdown",
   "metadata": {},
   "source": [
    "## Exercise-2"
   ]
  },
  {
   "cell_type": "code",
   "execution_count": 3,
   "metadata": {},
   "outputs": [
    {
     "name": "stdout",
     "output_type": "stream",
     "text": [
      "*\n",
      "***\n",
      "*****\n"
     ]
    }
   ],
   "source": [
    "for i in range(1,6):\n",
    "    if i%2==0:\n",
    "        continue\n",
    "    else:\n",
    "        print(\"*\"*i)\n",
    "        i = i + 1"
   ]
  },
  {
   "attachments": {},
   "cell_type": "markdown",
   "metadata": {},
   "source": [
    "## Exercise-3"
   ]
  },
  {
   "cell_type": "code",
   "execution_count": 29,
   "metadata": {},
   "outputs": [],
   "source": [
    "# Not finished yet\n",
    "\n",
    "todo = [\"exercise1\", \"exercise2\", \"exercise3\",\"coffee break\" ,\"exercise4\",\"exercise5\",\"exercise6\"]\n",
    "for x in todo:\n",
    "    if x.lower() == \"COFFEE BREAK\":\n",
    "        print(x)\n",
    "        break"
   ]
  },
  {
   "attachments": {},
   "cell_type": "markdown",
   "metadata": {},
   "source": [
    "## Exercise-4"
   ]
  },
  {
   "cell_type": "code",
   "execution_count": 17,
   "metadata": {},
   "outputs": [
    {
     "name": "stdout",
     "output_type": "stream",
     "text": [
      "lion\n",
      "monkey\n",
      "dog\n",
      "fish\n"
     ]
    }
   ],
   "source": [
    "list1 = [\"lion\", \"monkey\", \"dog\",\"fish\"]\n",
    "\n",
    "\n",
    "for a in list1:\n",
    "    print(a)\n"
   ]
  },
  {
   "cell_type": "code",
   "execution_count": 18,
   "metadata": {},
   "outputs": [
    {
     "name": "stdout",
     "output_type": "stream",
     "text": [
      "lion\n",
      "monkey\n",
      "dog\n",
      "fish\n"
     ]
    }
   ],
   "source": [
    "tuple1 = (\"lion\", \"monkey\", \"dog\",\"fish\")\n",
    "for b in tuple1:\n",
    "    print(b)"
   ]
  },
  {
   "cell_type": "code",
   "execution_count": 19,
   "metadata": {},
   "outputs": [
    {
     "name": "stdout",
     "output_type": "stream",
     "text": [
      "fish\n",
      "dog\n",
      "monkey\n",
      "lion\n"
     ]
    }
   ],
   "source": [
    "set1 = {\"lion\", \"monkey\", \"dog\",\"fish\"}\n",
    "\n",
    "for c in set1:\n",
    "    print(c)"
   ]
  },
  {
   "cell_type": "code",
   "execution_count": 25,
   "metadata": {},
   "outputs": [
    {
     "name": "stdout",
     "output_type": "stream",
     "text": [
      "lion lives in land\n",
      "monkey lives in land\n",
      "dog lives in land\n"
     ]
    }
   ],
   "source": [
    "dict1 = {\"lion\":\"land\", \"monkey\":\"land\", \"dog\":\"land\",\"fish\":\"water\"}\n",
    "\n",
    "for d in dict1:\n",
    "    if dict1[d] == 'land':\n",
    "        print(d, 'lives in', dict1[d])"
   ]
  }
 ],
 "metadata": {
  "kernelspec": {
   "display_name": "Python 3",
   "language": "python",
   "name": "python3"
  },
  "language_info": {
   "codemirror_mode": {
    "name": "ipython",
    "version": 3
   },
   "file_extension": ".py",
   "mimetype": "text/x-python",
   "name": "python",
   "nbconvert_exporter": "python",
   "pygments_lexer": "ipython3",
   "version": "3.11.1"
  },
  "orig_nbformat": 4,
  "vscode": {
   "interpreter": {
    "hash": "bdb715d3f28895bf8d1f1f0337a53a101c9666f588645ae97659721ee0d271c0"
   }
  }
 },
 "nbformat": 4,
 "nbformat_minor": 2
}
