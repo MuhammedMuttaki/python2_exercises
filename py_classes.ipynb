{
 "cells": [
  {
   "attachments": {},
   "cell_type": "markdown",
   "metadata": {},
   "source": [
    "# Python-2 - Classes & Objects Exercises\n",
    "By Mohammad Muttaqi"
   ]
  },
  {
   "cell_type": "markdown",
   "metadata": {},
   "source": [
    "## Exercise-1"
   ]
  },
  {
   "cell_type": "code",
   "execution_count": 12,
   "metadata": {},
   "outputs": [
    {
     "name": "stdout",
     "output_type": "stream",
     "text": [
      "Animal object was created\n",
      "Running started\n"
     ]
    }
   ],
   "source": [
    "class Animal:\n",
    "    def __init__(self, legs):\n",
    "        self.legs = legs\n",
    "        print(\"Animal object was created\")\n",
    "    \n",
    "    def runs(self):\n",
    "        print(\"Running started\")\n",
    "       \n",
    "animal = Animal(4)\n",
    "animal.runs()"
   ]
  },
  {
   "attachments": {},
   "cell_type": "markdown",
   "metadata": {},
   "source": [
    "## Exercise-2"
   ]
  },
  {
   "cell_type": "code",
   "execution_count": 1,
   "metadata": {},
   "outputs": [
    {
     "name": "stdout",
     "output_type": "stream",
     "text": [
      "Animal object was created\n",
      "It has 4 legs\n",
      "4\n",
      "4\n"
     ]
    }
   ],
   "source": [
    "class Animal:\n",
    "    def __init__(self,legs_count):\n",
    "        print(\"Animal object was created\")\n",
    "        self.number_of_legs = legs_count\n",
    "\n",
    "    def runs(self):\n",
    "        print(\"Running started\")\n",
    "\n",
    "    def count_legs(self):\n",
    "        print(f\"It has {self.number_of_legs} legs\")\n",
    "    \n",
    "    def return_legs(self):\n",
    "        return self.number_of_legs\n",
    "    \n",
    "animal = Animal(4)\n",
    "animal.count_legs()\n",
    "print(animal.return_legs())\n",
    "print(animal.number_of_legs)"
   ]
  },
  {
   "attachments": {},
   "cell_type": "markdown",
   "metadata": {},
   "source": [
    "## Exercise-3"
   ]
  },
  {
   "cell_type": "code",
   "execution_count": 30,
   "metadata": {},
   "outputs": [
    {
     "name": "stdout",
     "output_type": "stream",
     "text": [
      "Animal object was created\n",
      "It has 4 legs\n",
      "4\n",
      "4\n"
     ]
    }
   ],
   "source": [
    "class Animal:\n",
    "    def __init__(self,legs_count):\n",
    "        print(\"Animal object was created\")\n",
    "        self._number_of_legs = legs_count\n",
    "\n",
    "    def runs(self):\n",
    "        print(\"Running started\")\n",
    "\n",
    "    def count_legs(self):\n",
    "        print(f\"It has {self._number_of_legs} legs\")\n",
    "\n",
    "    def return_legs(self):\n",
    "        return self._number_of_legs\n",
    "        \n",
    "animal= Animal(4)\n",
    "animal.count_legs()\n",
    "print(animal.return_legs())\n",
    "print(animal._number_of_legs)"
   ]
  },
  {
   "attachments": {},
   "cell_type": "markdown",
   "metadata": {},
   "source": [
    "## Exercise-4"
   ]
  },
  {
   "cell_type": "code",
   "execution_count": 42,
   "metadata": {},
   "outputs": [
    {
     "name": "stdout",
     "output_type": "stream",
     "text": [
      "Animal object was created\n",
      "Its name is Max\n",
      "woof woof\n",
      "It has 4 legs\n"
     ]
    }
   ],
   "source": [
    "class Animal:\n",
    "    def __init__(self,legs_count):\n",
    "        print(\"Animal object was created\")\n",
    "        self._number_of_legs = legs_count\n",
    "\n",
    "    def runs(self):\n",
    "        print(\"Running started\")\n",
    "\n",
    "    def count_legs(self):\n",
    "        print(f\"It has {self._number_of_legs} legs\")\n",
    "\n",
    "    def return_legs(self):\n",
    "        return self._number_of_legs\n",
    "    \n",
    "\n",
    "class Dog(Animal):\n",
    "    def __init__(self, name, legs_count):\n",
    "        self.__name = name\n",
    "        Animal.__init__(self, legs_count)\n",
    "        \n",
    "    def name_of_dog(self):\n",
    "        return self.__name\n",
    "    \n",
    "    def bark(self):\n",
    "        print(\"woof woof\")\n",
    "        \n",
    "\n",
    "dog = Dog(\"Max\", 4)\n",
    "print(\"Its name is {}\".format(dog.name_of_dog()))\n",
    "dog.bark()\n",
    "dog.count_legs()"
   ]
  }
 ],
 "metadata": {
  "kernelspec": {
   "display_name": "Python 3",
   "language": "python",
   "name": "python3"
  },
  "language_info": {
   "codemirror_mode": {
    "name": "ipython",
    "version": 3
   },
   "file_extension": ".py",
   "mimetype": "text/x-python",
   "name": "python",
   "nbconvert_exporter": "python",
   "pygments_lexer": "ipython3",
   "version": "3.9.6"
  },
  "orig_nbformat": 4,
  "vscode": {
   "interpreter": {
    "hash": "900bf75fc1409b615d076e1463c45ace5856b07f789d2fbba6325feed7de60b4"
   }
  }
 },
 "nbformat": 4,
 "nbformat_minor": 2
}
