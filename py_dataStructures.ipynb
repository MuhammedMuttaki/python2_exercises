{
 "cells": [
  {
   "attachments": {},
   "cell_type": "markdown",
   "metadata": {},
   "source": [
    "# Python-2 - Data Structures Exercise\n",
    "By Mohammad Muttaqi"
   ]
  },
  {
   "attachments": {},
   "cell_type": "markdown",
   "metadata": {},
   "source": [
    "* Remember list,set,dictionary are mutable and tuple is immutable list,tuple elements can be reached by index\n",
    "* for dictionary it is not an option to reach by index the element key has to be known to reach\n",
    "* and for set the items cannot be reached directly but it is possible to iterate.\n",
    "\n",
    "    * print the lengths of list1,tuple1,set1,dict1\n",
    "    * print the first element of list1 and tuple1\n",
    "    * print the value of lion key of dict1\n",
    "    * change the 2nd position element of list1 to \"rabbit\"\n",
    "    * try to change the 2nd position element of the tuple to \"rabbit\" and explain what happened.\n",
    "    * add \"monkey\" to list1\n",
    "    * remove \"rabbit\" from list1\n",
    "    * in dict1 the number of feet is written as value to each animal the fixh has wrong value just fix it."
   ]
  },
  {
   "cell_type": "code",
   "execution_count": 23,
   "metadata": {},
   "outputs": [
    {
     "name": "stdout",
     "output_type": "stream",
     "text": [
      "Length of list1 = 4\n",
      "First element of list1: lion\n",
      "The new value: rabbit\n",
      "['lion', 'rabbit', 'dog', 'fish', 'monkey']\n",
      "['lion', 'dog', 'fish', 'monkey']\n"
     ]
    }
   ],
   "source": [
    "list1 = [\"lion\", \"monkey\", \"dog\",\"fish\"]\n",
    "\n",
    "print(\"Length of list1 =\", len(list1))\n",
    "print(\"First element of list1:\", list1[0])\n",
    "list1[1] = \"rabbit\"\n",
    "print(\"The new value:\", list1[1])\n",
    "list1.append(\"monkey\")\n",
    "print(list1)\n",
    "list1.remove(\"rabbit\")\n",
    "print(list1)\n"
   ]
  },
  {
   "cell_type": "code",
   "execution_count": 17,
   "metadata": {},
   "outputs": [
    {
     "name": "stdout",
     "output_type": "stream",
     "text": [
      "Length of tuple1 = 4\n",
      "First element of tuple1: lion\n"
     ]
    }
   ],
   "source": [
    "tuple1 = (\"lion\", \"monkey\", \"dog\",\"fish\")\n",
    "print(\"Length of tuple1 =\", len(tuple1))\n",
    "print(\"First element of tuple1:\", tuple1[0])"
   ]
  },
  {
   "cell_type": "code",
   "execution_count": 18,
   "metadata": {},
   "outputs": [
    {
     "ename": "TypeError",
     "evalue": "'tuple' object does not support item assignment",
     "output_type": "error",
     "traceback": [
      "\u001b[1;31m---------------------------------------------------------------------------\u001b[0m",
      "\u001b[1;31mTypeError\u001b[0m                                 Traceback (most recent call last)",
      "Cell \u001b[1;32mIn[18], line 1\u001b[0m\n\u001b[1;32m----> 1\u001b[0m tuple1[\u001b[39m1\u001b[39;49m] \u001b[39m=\u001b[39m \u001b[39m\"\u001b[39m\u001b[39mrabbit\u001b[39m\u001b[39m\"\u001b[39m\n\u001b[0;32m      2\u001b[0m \u001b[39mprint\u001b[39m(\u001b[39m\"\u001b[39m\u001b[39mThe new value:\u001b[39m\u001b[39m\"\u001b[39m, tuple1[\u001b[39m1\u001b[39m])\n",
      "\u001b[1;31mTypeError\u001b[0m: 'tuple' object does not support item assignment"
     ]
    }
   ],
   "source": [
    "tuple1[1] = \"rabbit\"\n",
    "print(\"The new value:\", tuple1[1])\n",
    "\n",
    "# As expected it doesn't work since tuples are immutable or unchangable\n",
    "# but if we want to do so we can achieve it by changing the tuple into list"
   ]
  },
  {
   "cell_type": "code",
   "execution_count": 9,
   "metadata": {},
   "outputs": [
    {
     "name": "stdout",
     "output_type": "stream",
     "text": [
      "Length of set1 = 4\n"
     ]
    }
   ],
   "source": [
    "set1 = {\"lion\", \"monkey\", \"dog\",\"fish\"}\n",
    "print(\"Length of set1 =\", len(set1))"
   ]
  },
  {
   "cell_type": "code",
   "execution_count": 24,
   "metadata": {},
   "outputs": [
    {
     "name": "stdout",
     "output_type": "stream",
     "text": [
      "Length of dict1 = 4\n",
      "Value of lion = 4\n",
      "A fish has 0 feet\n"
     ]
    }
   ],
   "source": [
    "dict1 = {\"lion\":4, \"monkey\":2, \"dog\":4,\"fish\":2}\n",
    "print(\"Length of dict1 =\", len(dict1))\n",
    "print(\"Value of lion =\", dict1[\"lion\"])\n",
    "dict1[\"fish\"] = 0\n",
    "print(\"A fish has\", dict1[\"fish\"], \"feet\")"
   ]
  }
 ],
 "metadata": {
  "kernelspec": {
   "display_name": "Python 3",
   "language": "python",
   "name": "python3"
  },
  "language_info": {
   "codemirror_mode": {
    "name": "ipython",
    "version": 3
   },
   "file_extension": ".py",
   "mimetype": "text/x-python",
   "name": "python",
   "nbconvert_exporter": "python",
   "pygments_lexer": "ipython3",
   "version": "3.9.6"
  },
  "orig_nbformat": 4,
  "vscode": {
   "interpreter": {
    "hash": "900bf75fc1409b615d076e1463c45ace5856b07f789d2fbba6325feed7de60b4"
   }
  }
 },
 "nbformat": 4,
 "nbformat_minor": 2
}
