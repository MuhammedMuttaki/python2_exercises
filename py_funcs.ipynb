{
 "cells": [
  {
   "attachments": {},
   "cell_type": "markdown",
   "metadata": {},
   "source": [
    "# Python-2 - Functions Exercises\n",
    "By Mohammad Muttaqi"
   ]
  },
  {
   "cell_type": "markdown",
   "metadata": {},
   "source": [
    "## Exercise-1"
   ]
  },
  {
   "cell_type": "code",
   "execution_count": 2,
   "metadata": {},
   "outputs": [
    {
     "name": "stdout",
     "output_type": "stream",
     "text": [
      "good bye\n"
     ]
    }
   ],
   "source": [
    "def goodbye():\n",
    "    print(\"good bye\")\n",
    "    \n",
    "goodbye()"
   ]
  },
  {
   "attachments": {},
   "cell_type": "markdown",
   "metadata": {},
   "source": [
    "## Exercise-2"
   ]
  },
  {
   "cell_type": "code",
   "execution_count": 3,
   "metadata": {},
   "outputs": [
    {
     "name": "stdout",
     "output_type": "stream",
     "text": [
      "Good bye Adam\n"
     ]
    }
   ],
   "source": [
    "def goodbye(name):\n",
    "    print(f\"Good bye {name}\")\n",
    "\n",
    "goodbye(\"Adam\")"
   ]
  },
  {
   "attachments": {},
   "cell_type": "markdown",
   "metadata": {},
   "source": [
    "## Exercise-3"
   ]
  },
  {
   "cell_type": "code",
   "execution_count": 5,
   "metadata": {},
   "outputs": [
    {
     "name": "stdout",
     "output_type": "stream",
     "text": [
      "The username of the PC is:  Hp\n"
     ]
    }
   ],
   "source": [
    "import os\n",
    "\n",
    "user = os.getlogin()\n",
    "print(\"The username of the PC is: \", user)\n"
   ]
  },
  {
   "attachments": {},
   "cell_type": "markdown",
   "metadata": {},
   "source": [
    "## Exercise-4"
   ]
  },
  {
   "cell_type": "code",
   "execution_count": 15,
   "metadata": {},
   "outputs": [
    {
     "name": "stdout",
     "output_type": "stream",
     "text": [
      "Hello John Doe!\n",
      "Hello Tristram Mcbride!\n",
      "Hello Baldwin Preston!\n",
      "Hello Wally Collins!\n"
     ]
    }
   ],
   "source": [
    "names = ['John', 'Tristram', 'Baldwin', 'Wally']\n",
    "surnames = ['Doe', 'Mcbride', 'Preston', 'Collins']\n",
    "\n",
    "def greetings (name, surname):\n",
    "    print(\"Hello {} {}!\".format(name, surname))\n",
    "\n",
    "for i in range(4):\n",
    "    greetings(names[i], surnames[i])"
   ]
  },
  {
   "attachments": {},
   "cell_type": "markdown",
   "metadata": {},
   "source": [
    "## Exercise-5"
   ]
  },
  {
   "cell_type": "code",
   "execution_count": 33,
   "metadata": {},
   "outputs": [
    {
     "name": "stdout",
     "output_type": "stream",
     "text": [
      "The list: [-10, 55, -35, -34, 11, -2, 25, -13, -68, -79, -8, 70, -91, 15, -49]\n",
      "Sum of the list elements = -213\n"
     ]
    }
   ],
   "source": [
    "import random as rndm\n",
    "\n",
    "random_list = []\n",
    "\n",
    "def random_list_summer():\n",
    "    for i in range(15):\n",
    "        rnd_nmbr = rndm.randrange(-100, 100)\n",
    "        random_list.append(rnd_nmbr)\n",
    "    \n",
    "    print(\"The list:\", random_list) \n",
    "    print(\"Sum of the list elements =\", sum(random_list))    \n",
    "\n",
    "random_list_summer()\n"
   ]
  },
  {
   "attachments": {},
   "cell_type": "markdown",
   "metadata": {},
   "source": [
    "## Exercise-6"
   ]
  },
  {
   "attachments": {},
   "cell_type": "markdown",
   "metadata": {},
   "source": [
    "Fibonacci Sequence"
   ]
  },
  {
   "cell_type": "code",
   "execution_count": 11,
   "metadata": {},
   "outputs": [
    {
     "name": "stdout",
     "output_type": "stream",
     "text": [
      "[1, 1, 2, 3, 5]\n"
     ]
    }
   ],
   "source": [
    "# Fibonacci series usually starts with 0 but I wanted mine to be different. that's why it starts with 1\n",
    "\n",
    "fib_seq = []\n",
    "\n",
    "def fibonacci (n):\n",
    "    \n",
    "    if n <= 1:\n",
    "       return n\n",
    "    else:\n",
    "       return(fibonacci(n-1) + fibonacci(n-2))\n",
    "\n",
    "for i in range(1, 6):\n",
    "    fib_seq.append(fibonacci(i))\n",
    "\n",
    "print(fib_seq)\n",
    "    "
   ]
  },
  {
   "attachments": {},
   "cell_type": "markdown",
   "metadata": {},
   "source": [
    "## Exercise-7"
   ]
  }
 ],
 "metadata": {
  "kernelspec": {
   "display_name": "Python 3",
   "language": "python",
   "name": "python3"
  },
  "language_info": {
   "codemirror_mode": {
    "name": "ipython",
    "version": 3
   },
   "file_extension": ".py",
   "mimetype": "text/x-python",
   "name": "python",
   "nbconvert_exporter": "python",
   "pygments_lexer": "ipython3",
   "version": "3.9.6"
  },
  "orig_nbformat": 4,
  "vscode": {
   "interpreter": {
    "hash": "900bf75fc1409b615d076e1463c45ace5856b07f789d2fbba6325feed7de60b4"
   }
  }
 },
 "nbformat": 4,
 "nbformat_minor": 2
}
